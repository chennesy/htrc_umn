{
 "cells": [
  {
   "cell_type": "code",
   "execution_count": 1,
   "metadata": {},
   "outputs": [
    {
     "name": "stdout",
     "output_type": "stream",
     "text": [
      "Requirement already satisfied: htrc-feature-reader in c:\\users\\ianre\\anaconda3\\lib\\site-packages (2.0.6)\n",
      "Requirement already satisfied: requests in c:\\users\\ianre\\anaconda3\\lib\\site-packages (from htrc-feature-reader) (2.22.0)\n",
      "Requirement already satisfied: six in c:\\users\\ianre\\anaconda3\\lib\\site-packages (from htrc-feature-reader) (1.12.0)\n",
      "Requirement already satisfied: python-rapidjson in c:\\users\\ianre\\anaconda3\\lib\\site-packages (from htrc-feature-reader) (0.9.1)\n",
      "Requirement already satisfied: pymarc in c:\\users\\ianre\\anaconda3\\lib\\site-packages (from htrc-feature-reader) (4.0.0)\n",
      "Requirement already satisfied: pandas>=0.24 in c:\\users\\ianre\\anaconda3\\lib\\site-packages (from htrc-feature-reader) (0.25.1)\n",
      "Requirement already satisfied: idna<2.9,>=2.5 in c:\\users\\ianre\\anaconda3\\lib\\site-packages (from requests->htrc-feature-reader) (2.8)\n",
      "Requirement already satisfied: certifi>=2017.4.17 in c:\\users\\ianre\\anaconda3\\lib\\site-packages (from requests->htrc-feature-reader) (2019.9.11)\n",
      "Requirement already satisfied: urllib3!=1.25.0,!=1.25.1,<1.26,>=1.21.1 in c:\\users\\ianre\\anaconda3\\lib\\site-packages (from requests->htrc-feature-reader) (1.24.2)\n",
      "Requirement already satisfied: chardet<3.1.0,>=3.0.2 in c:\\users\\ianre\\anaconda3\\lib\\site-packages (from requests->htrc-feature-reader) (3.0.4)\n",
      "Requirement already satisfied: pytz>=2017.2 in c:\\users\\ianre\\anaconda3\\lib\\site-packages (from pandas>=0.24->htrc-feature-reader) (2019.3)\n",
      "Requirement already satisfied: python-dateutil>=2.6.1 in c:\\users\\ianre\\anaconda3\\lib\\site-packages (from pandas>=0.24->htrc-feature-reader) (2.8.0)\n",
      "Requirement already satisfied: numpy>=1.13.3 in c:\\users\\ianre\\anaconda3\\lib\\site-packages (from pandas>=0.24->htrc-feature-reader) (1.16.5)\n"
     ]
    }
   ],
   "source": [
    "# you can pip install from the shell, or use sys to execute pip install within jupyter\n",
    "import sys\n",
    "!{sys.executable} -m pip install htrc-feature-reader"
   ]
  },
  {
   "cell_type": "code",
   "execution_count": 2,
   "metadata": {},
   "outputs": [],
   "source": [
    "from htrc_features import FeatureReader\n",
    "import pandas as pd\n",
    "import glob\n",
    "%matplotlib inline"
   ]
  },
  {
   "cell_type": "markdown",
   "metadata": {},
   "source": [
    "# multiple volumes"
   ]
  },
  {
   "cell_type": "code",
   "execution_count": 3,
   "metadata": {},
   "outputs": [
    {
     "name": "stdout",
     "output_type": "stream",
     "text": [
      "None\n",
      "['erdrich\\\\inu.30000039114859.json.bz2', 'erdrich\\\\inu.30000041114236.json.bz2', 'erdrich\\\\mdp.39015010832841.json.bz2', 'erdrich\\\\mdp.39015031716551.json.bz2', 'erdrich\\\\mdp.39015031818787.json.bz2', 'erdrich\\\\mdp.39015034038862.json.bz2', 'erdrich\\\\mdp.39015040036579.json.bz2', 'erdrich\\\\mdp.39015048567476.json.bz2', 'erdrich\\\\mdp.39015048771235.json.bz2', 'erdrich\\\\mdp.39015054189942.json.bz2', 'erdrich\\\\mdp.39015056813671.json.bz2', 'erdrich\\\\mdp.49015002565050.json.bz2', 'erdrich\\\\mdp.49015002568237.json.bz2', 'erdrich\\\\uc1.32106017511640.json.bz2']\n",
      "Route 2 / Louise Erdrich and Michael Dorris.\n",
      "The falcon : a narrative of the captivity and adventures of John Tanner / with an introduction by Louise Erdrich.\n",
      "Love medicine : a novel / by Louise Erdrich.\n",
      "The blue jay's dance : a birth year / Louise Erdrich.\n",
      "The bingo palace / Louise Erdrich.\n",
      "The blue jay's dance : a birth year / Louise Erdrich.\n",
      "The antelope wife : a novel / Louise Erdrich.\n",
      "The birchbark house / Louise Erdrich with illustrations by the author.\n",
      "The broom closet : secret meanings of domesticity in postfeminist novels by Louise Erdrich, Mary Gordan, Toni Morrison, Marge Piercy, Jane Smiley, and Amy Tan / Jeannette Batz Cooperman.\n",
      "Tracks : a novel / by Louise Erdrich.\n",
      "Books and islands in Ojibwe country / Louise Erdrich.\n",
      "The birchbark house / Louise Erdrich with illustrations by the author.\n",
      "Grandmother's pigeon / Louise Erdrich ; illustrated by Jim LaMarche.\n",
      "The falcon : a narrative of the captivity and adventures of John Tanner / with an introduction by Louise Erdrich\n"
     ]
    }
   ],
   "source": [
    "paths = glob.glob(\"erdrich\\\\*.json.bz2\") #this may be a PC thing to have '\\\\' rather than '/'\n",
    "fr = FeatureReader(paths)\n",
    "for vol in fr.volumes():\n",
    "    print(vol.title)"
   ]
  },
  {
   "cell_type": "code",
   "execution_count": 4,
   "metadata": {},
   "outputs": [
    {
     "name": "stdout",
     "output_type": "stream",
     "text": [
      "inu.30000039114859 \n",
      " Route 2 / Louise Erdrich and Michael Dorris. \n",
      " ['Erdrich, Louise. ', 'Dorris, Michael. ']\n",
      "\n",
      "inu.30000041114236 \n",
      " The falcon : a narrative of the captivity and adventures of John Tanner / with an introduction by Louise Erdrich. \n",
      " ['Tanner, John 1780?-1847 ', 'Erdrich, Louise. ']\n",
      "\n",
      "mdp.39015010832841 \n",
      " Love medicine : a novel / by Louise Erdrich. \n",
      " ['Erdrich, Louise. ']\n",
      "\n",
      "mdp.39015031716551 \n",
      " The blue jay's dance : a birth year / Louise Erdrich. \n",
      " ['Erdrich, Louise. ']\n",
      "\n",
      "mdp.39015031818787 \n",
      " The bingo palace / Louise Erdrich. \n",
      " ['Erdrich, Louise. ']\n",
      "\n",
      "mdp.39015034038862 \n",
      " The blue jay's dance : a birth year / Louise Erdrich. \n",
      " ['Erdrich, Louise. ']\n",
      "\n",
      "mdp.39015040036579 \n",
      " The antelope wife : a novel / Louise Erdrich. \n",
      " ['Erdrich, Louise. ']\n",
      "\n",
      "mdp.39015048567476 \n",
      " The birchbark house / Louise Erdrich with illustrations by the author. \n",
      " ['Erdrich, Louise. ']\n",
      "\n",
      "mdp.39015048771235 \n",
      " The broom closet : secret meanings of domesticity in postfeminist novels by Louise Erdrich, Mary Gordan, Toni Morrison, Marge Piercy, Jane Smiley, and Amy Tan / Jeannette Batz Cooperman. \n",
      " ['Cooperman, Jeannette Batz 1961- ', 'Tan, Amy. ', 'Smiley, Jane. ', 'Piercy, Marge. ', 'Morrison, Toni. ', 'Gordon, Mary 1949- ', 'Erdrich, Louise. ']\n",
      "\n",
      "mdp.39015054189942 \n",
      " Tracks : a novel / by Louise Erdrich. \n",
      " ['Erdrich, Louise. ']\n",
      "\n",
      "mdp.39015056813671 \n",
      " Books and islands in Ojibwe country / Louise Erdrich. \n",
      " ['Erdrich, Louise. ']\n",
      "\n",
      "mdp.49015002565050 \n",
      " The birchbark house / Louise Erdrich with illustrations by the author. \n",
      " ['Erdrich, Louise. ']\n",
      "\n",
      "mdp.49015002568237 \n",
      " Grandmother's pigeon / Louise Erdrich ; illustrated by Jim LaMarche. \n",
      " ['Erdrich, Louise. ', 'LaMarche, Jim ill. ']\n",
      "\n",
      "uc1.32106017511640 \n",
      " The falcon : a narrative of the captivity and adventures of John Tanner / with an introduction by Louise Erdrich \n",
      " ['Tanner, John 1780?-1847 ', 'Erdrich, Louise ']\n",
      "\n"
     ]
    }
   ],
   "source": [
    "#if you're looking at the uncompressed JSON file for one book use the parameter 'compressed=False'\n",
    "#fr = FeatureReader(paths, compressed=False)\n",
    "for vol in fr.volumes():\n",
    "    print(vol.id, '\\n', vol.title, '\\n', vol.author)\n",
    "    print()"
   ]
  },
  {
   "cell_type": "code",
   "execution_count": 5,
   "metadata": {},
   "outputs": [
    {
     "name": "stdout",
     "output_type": "stream",
     "text": [
      "Source institution: INU \n",
      "Source institution: INU \n",
      "Source institution: MIU \n",
      "Source institution: MIU \n",
      "Source institution: MIU \n",
      "Source institution: MIU \n",
      "Source institution: MIU \n",
      "Source institution: MIU \n",
      "Source institution: MIU \n",
      "Source institution: MIU \n",
      "Source institution: MIU \n",
      "Source institution: MIU \n",
      "Source institution: MIU \n",
      "Source institution: UC \n"
     ]
    }
   ],
   "source": [
    "for vol in fr.volumes():\n",
    "    print(\"Source institution: %s \" % (vol.source_institution))"
   ]
  },
  {
   "cell_type": "markdown",
   "metadata": {},
   "source": [
    "Selecting a single volume"
   ]
  },
  {
   "cell_type": "code",
   "execution_count": 8,
   "metadata": {},
   "outputs": [
    {
     "data": {
      "text/plain": [
       "'Route 2 / Louise Erdrich and Michael Dorris.'"
      ]
     },
     "execution_count": 8,
     "metadata": {},
     "output_type": "execute_result"
    }
   ],
   "source": [
    "vol = fr.first()\n",
    "vol.title"
   ]
  },
  {
   "cell_type": "code",
   "execution_count": 9,
   "metadata": {},
   "outputs": [
    {
     "data": {
      "text/plain": [
       "page\n",
       "1    0\n",
       "2    0\n",
       "3    0\n",
       "4    0\n",
       "5    0\n",
       "Name: tokenCount, dtype: int64"
      ]
     },
     "execution_count": 9,
     "metadata": {},
     "output_type": "execute_result"
    }
   ],
   "source": [
    "tokens = vol.tokens_per_page()\n",
    "tokens.head()"
   ]
  },
  {
   "cell_type": "code",
   "execution_count": 10,
   "metadata": {},
   "outputs": [
    {
     "data": {
      "text/plain": [
       "<matplotlib.axes._subplots.AxesSubplot at 0x13e0039f248>"
      ]
     },
     "execution_count": 10,
     "metadata": {},
     "output_type": "execute_result"
    },
    {
     "data": {
      "image/png": "[encoded data removed]",
      "text/plain": [
       "<Figure size 432x288 with 1 Axes>"
      ]
     },
     "metadata": {
      "needs_background": "light"
     },
     "output_type": "display_data"
    }
   ],
   "source": [
    "tokens.plot()"
   ]
  },
  {
   "cell_type": "code",
   "execution_count": 11,
   "metadata": {},
   "outputs": [],
   "source": [
    "pages = [page for page in vol.pages()]"
   ]
  },
  {
   "cell_type": "code",
   "execution_count": 12,
   "metadata": {},
   "outputs": [],
   "source": [
    "# this book only has 56 pages so I changed all 'page_100's to 'page_25' going forward\n",
    "#page_100 = pages[99]\n",
    "page_25 = pages[24]"
   ]
  },
  {
   "cell_type": "code",
   "execution_count": 13,
   "metadata": {},
   "outputs": [
    {
     "name": "stdout",
     "output_type": "stream",
     "text": [
      "The body has 32 lines, 0 empty lines, and 14 sentences\n"
     ]
    }
   ],
   "source": [
    "print(\"The body has %s lines, %s empty lines, and %s sentences\" % (page_25.line_count(),\n",
    "                                                                   page_25.empty_line_count(),\n",
    "                                                                   page_25.sentence_count()))"
   ]
  },
  {
   "cell_type": "code",
   "execution_count": 14,
   "metadata": {},
   "outputs": [
    {
     "data": {
      "text/html": [
       "<div>\n",
       "<style scoped>\n",
       "    .dataframe tbody tr th:only-of-type {\n",
       "        vertical-align: middle;\n",
       "    }\n",
       "\n",
       "    .dataframe tbody tr th {\n",
       "        vertical-align: top;\n",
       "    }\n",
       "\n",
       "    .dataframe thead th {\n",
       "        text-align: right;\n",
       "    }\n",
       "</style>\n",
       "<table border=\"1\" class=\"dataframe\">\n",
       "  <thead>\n",
       "    <tr style=\"text-align: right;\">\n",
       "      <th></th>\n",
       "      <th>page</th>\n",
       "      <th>section</th>\n",
       "      <th>token</th>\n",
       "      <th>pos</th>\n",
       "      <th>count</th>\n",
       "    </tr>\n",
       "  </thead>\n",
       "  <tbody>\n",
       "    <tr>\n",
       "      <td>0</td>\n",
       "      <td>25</td>\n",
       "      <td>body</td>\n",
       "      <td>\"</td>\n",
       "      <td>''</td>\n",
       "      <td>1</td>\n",
       "    </tr>\n",
       "    <tr>\n",
       "      <td>1</td>\n",
       "      <td>25</td>\n",
       "      <td>body</td>\n",
       "      <td>\"</td>\n",
       "      <td>``</td>\n",
       "      <td>1</td>\n",
       "    </tr>\n",
       "    <tr>\n",
       "      <td>2</td>\n",
       "      <td>25</td>\n",
       "      <td>body</td>\n",
       "      <td>'oeuvres</td>\n",
       "      <td>.</td>\n",
       "      <td>1</td>\n",
       "    </tr>\n",
       "    <tr>\n",
       "      <td>3</td>\n",
       "      <td>25</td>\n",
       "      <td>body</td>\n",
       "      <td>'s</td>\n",
       "      <td>POS</td>\n",
       "      <td>7</td>\n",
       "    </tr>\n",
       "    <tr>\n",
       "      <td>4</td>\n",
       "      <td>25</td>\n",
       "      <td>body</td>\n",
       "      <td>,</td>\n",
       "      <td>,</td>\n",
       "      <td>43</td>\n",
       "    </tr>\n",
       "    <tr>\n",
       "      <td>...</td>\n",
       "      <td>...</td>\n",
       "      <td>...</td>\n",
       "      <td>...</td>\n",
       "      <td>...</td>\n",
       "      <td>...</td>\n",
       "    </tr>\n",
       "    <tr>\n",
       "      <td>243</td>\n",
       "      <td>25</td>\n",
       "      <td>body</td>\n",
       "      <td>whose</td>\n",
       "      <td>WP$</td>\n",
       "      <td>1</td>\n",
       "    </tr>\n",
       "    <tr>\n",
       "      <td>244</td>\n",
       "      <td>25</td>\n",
       "      <td>body</td>\n",
       "      <td>wind</td>\n",
       "      <td>VBP</td>\n",
       "      <td>1</td>\n",
       "    </tr>\n",
       "    <tr>\n",
       "      <td>245</td>\n",
       "      <td>25</td>\n",
       "      <td>body</td>\n",
       "      <td>wishes</td>\n",
       "      <td>NNS</td>\n",
       "      <td>1</td>\n",
       "    </tr>\n",
       "    <tr>\n",
       "      <td>246</td>\n",
       "      <td>25</td>\n",
       "      <td>body</td>\n",
       "      <td>with</td>\n",
       "      <td>IN</td>\n",
       "      <td>2</td>\n",
       "    </tr>\n",
       "    <tr>\n",
       "      <td>247</td>\n",
       "      <td>25</td>\n",
       "      <td>body</td>\n",
       "      <td>year</td>\n",
       "      <td>NN</td>\n",
       "      <td>1</td>\n",
       "    </tr>\n",
       "  </tbody>\n",
       "</table>\n",
       "<p>248 rows × 5 columns</p>\n",
       "</div>"
      ],
      "text/plain": [
       "     page section     token  pos  count\n",
       "0      25    body         \"   ''      1\n",
       "1      25    body         \"   ``      1\n",
       "2      25    body  'oeuvres    .      1\n",
       "3      25    body        's  POS      7\n",
       "4      25    body         ,    ,     43\n",
       "..    ...     ...       ...  ...    ...\n",
       "243    25    body     whose  WP$      1\n",
       "244    25    body      wind  VBP      1\n",
       "245    25    body    wishes  NNS      1\n",
       "246    25    body      with   IN      2\n",
       "247    25    body      year   NN      1\n",
       "\n",
       "[248 rows x 5 columns]"
      ]
     },
     "execution_count": 14,
     "metadata": {},
     "output_type": "execute_result"
    }
   ],
   "source": [
    "page_25.tokenlist().reset_index()"
   ]
  },
  {
   "cell_type": "code",
   "execution_count": 15,
   "metadata": {},
   "outputs": [
    {
     "data": {
      "text/html": [
       "<div>\n",
       "<style scoped>\n",
       "    .dataframe tbody tr th:only-of-type {\n",
       "        vertical-align: middle;\n",
       "    }\n",
       "\n",
       "    .dataframe tbody tr th {\n",
       "        vertical-align: top;\n",
       "    }\n",
       "\n",
       "    .dataframe thead th {\n",
       "        text-align: right;\n",
       "    }\n",
       "</style>\n",
       "<table border=\"1\" class=\"dataframe\">\n",
       "  <thead>\n",
       "    <tr style=\"text-align: right;\">\n",
       "      <th></th>\n",
       "      <th>page</th>\n",
       "      <th>section</th>\n",
       "      <th>token</th>\n",
       "      <th>pos</th>\n",
       "      <th>count</th>\n",
       "    </tr>\n",
       "  </thead>\n",
       "  <tbody>\n",
       "    <tr>\n",
       "      <td>0</td>\n",
       "      <td>9.0</td>\n",
       "      <td>body</td>\n",
       "      <td>,</td>\n",
       "      <td>,</td>\n",
       "      <td>1</td>\n",
       "    </tr>\n",
       "    <tr>\n",
       "      <td>1</td>\n",
       "      <td>9.0</td>\n",
       "      <td>body</td>\n",
       "      <td>9</td>\n",
       "      <td>CD</td>\n",
       "      <td>2</td>\n",
       "    </tr>\n",
       "    <tr>\n",
       "      <td>2</td>\n",
       "      <td>9.0</td>\n",
       "      <td>body</td>\n",
       "      <td>=</td>\n",
       "      <td>SYM</td>\n",
       "      <td>2</td>\n",
       "    </tr>\n",
       "    <tr>\n",
       "      <td>3</td>\n",
       "      <td>9.0</td>\n",
       "      <td>body</td>\n",
       "      <td>BLOOMINGTON</td>\n",
       "      <td>NN</td>\n",
       "      <td>1</td>\n",
       "    </tr>\n",
       "    <tr>\n",
       "      <td>4</td>\n",
       "      <td>9.0</td>\n",
       "      <td>body</td>\n",
       "      <td>California</td>\n",
       "      <td>NNP</td>\n",
       "      <td>1</td>\n",
       "    </tr>\n",
       "  </tbody>\n",
       "</table>\n",
       "</div>"
      ],
      "text/plain": [
       "   page section        token  pos  count\n",
       "0   9.0    body            ,    ,      1\n",
       "1   9.0    body            9   CD      2\n",
       "2   9.0    body            =  SYM      2\n",
       "3   9.0    body  BLOOMINGTON   NN      1\n",
       "4   9.0    body   California  NNP      1"
      ]
     },
     "execution_count": 15,
     "metadata": {},
     "output_type": "execute_result"
    }
   ],
   "source": [
    "all_pages_meta = pd.concat([p.tokenlist().reset_index() for p in pages], sort=False)\n",
    "all_pages_meta.head()"
   ]
  },
  {
   "cell_type": "code",
   "execution_count": 16,
   "metadata": {},
   "outputs": [],
   "source": [
    "token_count = all_pages_meta.groupby(['token']).count()[['count']]"
   ]
  },
  {
   "cell_type": "code",
   "execution_count": 17,
   "metadata": {},
   "outputs": [
    {
     "data": {
      "text/html": [
       "<div>\n",
       "<style scoped>\n",
       "    .dataframe tbody tr th:only-of-type {\n",
       "        vertical-align: middle;\n",
       "    }\n",
       "\n",
       "    .dataframe tbody tr th {\n",
       "        vertical-align: top;\n",
       "    }\n",
       "\n",
       "    .dataframe thead th {\n",
       "        text-align: right;\n",
       "    }\n",
       "</style>\n",
       "<table border=\"1\" class=\"dataframe\">\n",
       "  <thead>\n",
       "    <tr style=\"text-align: right;\">\n",
       "      <th></th>\n",
       "      <th>count</th>\n",
       "    </tr>\n",
       "    <tr>\n",
       "      <th>token</th>\n",
       "      <th></th>\n",
       "    </tr>\n",
       "  </thead>\n",
       "  <tbody>\n",
       "    <tr>\n",
       "      <td>\"</td>\n",
       "      <td>53</td>\n",
       "    </tr>\n",
       "    <tr>\n",
       "      <td>that</td>\n",
       "      <td>52</td>\n",
       "    </tr>\n",
       "    <tr>\n",
       "      <td>and</td>\n",
       "      <td>38</td>\n",
       "    </tr>\n",
       "    <tr>\n",
       "      <td>,</td>\n",
       "      <td>38</td>\n",
       "    </tr>\n",
       "    <tr>\n",
       "      <td>of</td>\n",
       "      <td>36</td>\n",
       "    </tr>\n",
       "    <tr>\n",
       "      <td>.</td>\n",
       "      <td>36</td>\n",
       "    </tr>\n",
       "    <tr>\n",
       "      <td>the</td>\n",
       "      <td>36</td>\n",
       "    </tr>\n",
       "    <tr>\n",
       "      <td>in</td>\n",
       "      <td>35</td>\n",
       "    </tr>\n",
       "    <tr>\n",
       "      <td>a</td>\n",
       "      <td>35</td>\n",
       "    </tr>\n",
       "    <tr>\n",
       "      <td>to</td>\n",
       "      <td>35</td>\n",
       "    </tr>\n",
       "    <tr>\n",
       "      <td>is</td>\n",
       "      <td>32</td>\n",
       "    </tr>\n",
       "    <tr>\n",
       "      <td>as</td>\n",
       "      <td>32</td>\n",
       "    </tr>\n",
       "    <tr>\n",
       "      <td>by</td>\n",
       "      <td>32</td>\n",
       "    </tr>\n",
       "    <tr>\n",
       "      <td>with</td>\n",
       "      <td>32</td>\n",
       "    </tr>\n",
       "    <tr>\n",
       "      <td>on</td>\n",
       "      <td>32</td>\n",
       "    </tr>\n",
       "    <tr>\n",
       "      <td>at</td>\n",
       "      <td>30</td>\n",
       "    </tr>\n",
       "    <tr>\n",
       "      <td>from</td>\n",
       "      <td>30</td>\n",
       "    </tr>\n",
       "    <tr>\n",
       "      <td>The</td>\n",
       "      <td>30</td>\n",
       "    </tr>\n",
       "    <tr>\n",
       "      <td>'s</td>\n",
       "      <td>30</td>\n",
       "    </tr>\n",
       "    <tr>\n",
       "      <td>we</td>\n",
       "      <td>29</td>\n",
       "    </tr>\n",
       "  </tbody>\n",
       "</table>\n",
       "</div>"
      ],
      "text/plain": [
       "       count\n",
       "token       \n",
       "\"         53\n",
       "that      52\n",
       "and       38\n",
       ",         38\n",
       "of        36\n",
       ".         36\n",
       "the       36\n",
       "in        35\n",
       "a         35\n",
       "to        35\n",
       "is        32\n",
       "as        32\n",
       "by        32\n",
       "with      32\n",
       "on        32\n",
       "at        30\n",
       "from      30\n",
       "The       30\n",
       "'s        30\n",
       "we        29"
      ]
     },
     "execution_count": 17,
     "metadata": {},
     "output_type": "execute_result"
    }
   ],
   "source": [
    "token_count.sort_values(by='count', ascending=False)[0:20]"
   ]
  },
  {
   "cell_type": "code",
   "execution_count": 19,
   "metadata": {},
   "outputs": [
    {
     "name": "stdout",
     "output_type": "stream",
     "text": [
      "showing info https://raw.githubusercontent.com/nltk/nltk_data/gh-pages/index.xml\n"
     ]
    },
    {
     "data": {
      "text/plain": [
       "True"
      ]
     },
     "execution_count": 19,
     "metadata": {},
     "output_type": "execute_result"
    }
   ],
   "source": [
    "#the following cell was not running but worked after I ran these lines. (Found at https://www.nltk.org/data.html)\n",
    "import nltk\n",
    "nltk.download()\n",
    "#it probably isn't necessary to download the whole package? (I did)"
   ]
  },
  {
   "cell_type": "code",
   "execution_count": 22,
   "metadata": {},
   "outputs": [],
   "source": [
    "import string\n",
    "punctuation = string.punctuation\n",
    "from nltk.corpus import stopwords\n",
    "stop = stopwords.words('english')"
   ]
  },
  {
   "cell_type": "code",
   "execution_count": 25,
   "metadata": {},
   "outputs": [
    {
     "data": {
      "text/plain": [
       "Index(['', '—it', '', 'apple', 'before', 'family', 'females', 'foreign',\n",
       "       'forever', 'heart',\n",
       "       ...\n",
       "       'younger', 'your', 'zone', 'zoo', '©', '®', '—', '—', '—fast', '—soon'],\n",
       "      dtype='object', length=3965)"
      ]
     },
     "execution_count": 25,
     "metadata": {},
     "output_type": "execute_result"
    }
   ],
   "source": [
    "token_count.index = [word.strip(string.punctuation).lower() for word in token_count.index]\n",
    "token_count.index"
   ]
  },
  {
   "cell_type": "code",
   "execution_count": 9,
   "metadata": {},
   "outputs": [
    {
     "data": {
      "text/html": [
       "<div>\n",
       "<style scoped>\n",
       "    .dataframe tbody tr th:only-of-type {\n",
       "        vertical-align: middle;\n",
       "    }\n",
       "\n",
       "    .dataframe tbody tr th {\n",
       "        vertical-align: top;\n",
       "    }\n",
       "\n",
       "    .dataframe thead th {\n",
       "        text-align: right;\n",
       "    }\n",
       "</style>\n",
       "<table border=\"1\" class=\"dataframe\">\n",
       "  <thead>\n",
       "    <tr style=\"text-align: right;\">\n",
       "      <th></th>\n",
       "      <th>id</th>\n",
       "      <th>title</th>\n",
       "      <th>year</th>\n",
       "      <th>language</th>\n",
       "      <th>authors</th>\n",
       "    </tr>\n",
       "  </thead>\n",
       "  <tbody>\n",
       "    <tr>\n",
       "      <td>0</td>\n",
       "      <td>mdp.39015064761722</td>\n",
       "      <td>The translation of Dr. Apelles : a love story ...</td>\n",
       "      <td>2006</td>\n",
       "      <td>eng</td>\n",
       "      <td>Treuer, David</td>\n",
       "    </tr>\n",
       "    <tr>\n",
       "      <td>1</td>\n",
       "      <td>mdp.39015054189942</td>\n",
       "      <td>Tracks : a novel / by Louise Erdrich.</td>\n",
       "      <td>1988</td>\n",
       "      <td>eng</td>\n",
       "      <td>Erdrich, Louise</td>\n",
       "    </tr>\n",
       "    <tr>\n",
       "      <td>2</td>\n",
       "      <td>mdp.39015062522845</td>\n",
       "      <td>The mother's tongue / Heid E. Erdrich.</td>\n",
       "      <td>2005</td>\n",
       "      <td>eng</td>\n",
       "      <td>Erdrich, Heid E. (Heid Ellen)</td>\n",
       "    </tr>\n",
       "    <tr>\n",
       "      <td>3</td>\n",
       "      <td>inu.30000039114859</td>\n",
       "      <td>Route 2 / Louise Erdrich and Michael Dorris.</td>\n",
       "      <td>1991</td>\n",
       "      <td>eng</td>\n",
       "      <td>Erdrich, Louise; Dorris, Michael</td>\n",
       "    </tr>\n",
       "    <tr>\n",
       "      <td>4</td>\n",
       "      <td>mdp.39015031818787</td>\n",
       "      <td>The bingo palace / Louise Erdrich.</td>\n",
       "      <td>1994</td>\n",
       "      <td>eng</td>\n",
       "      <td>Erdrich, Louise</td>\n",
       "    </tr>\n",
       "    <tr>\n",
       "      <td>5</td>\n",
       "      <td>mdp.49015002568237</td>\n",
       "      <td>Grandmother's pigeon / Louise Erdrich ; illust...</td>\n",
       "      <td>1996</td>\n",
       "      <td>eng</td>\n",
       "      <td>Erdrich, Louise; LaMarche, Jim ill</td>\n",
       "    </tr>\n",
       "    <tr>\n",
       "      <td>6</td>\n",
       "      <td>mdp.39015048567476</td>\n",
       "      <td>The birchbark house / Louise Erdrich with illu...</td>\n",
       "      <td>1999</td>\n",
       "      <td>eng</td>\n",
       "      <td>Erdrich, Louise</td>\n",
       "    </tr>\n",
       "    <tr>\n",
       "      <td>7</td>\n",
       "      <td>mdp.39015041056824</td>\n",
       "      <td>Fishing for myth : poems / by Heid E. Erdrich.</td>\n",
       "      <td>1997</td>\n",
       "      <td>eng</td>\n",
       "      <td>Erdrich, Heid E. (Heid Ellen)</td>\n",
       "    </tr>\n",
       "    <tr>\n",
       "      <td>8</td>\n",
       "      <td>mdp.39015034038862</td>\n",
       "      <td>The blue jay's dance : a birth year / Louise E...</td>\n",
       "      <td>1995</td>\n",
       "      <td>eng</td>\n",
       "      <td>Erdrich, Louise</td>\n",
       "    </tr>\n",
       "    <tr>\n",
       "      <td>9</td>\n",
       "      <td>mdp.39015056813671</td>\n",
       "      <td>Books and islands in Ojibwe country / Louise E...</td>\n",
       "      <td>2003</td>\n",
       "      <td>eng</td>\n",
       "      <td>Erdrich, Louise</td>\n",
       "    </tr>\n",
       "    <tr>\n",
       "      <td>10</td>\n",
       "      <td>mdp.39015034927437</td>\n",
       "      <td>Little / by David Treuer.</td>\n",
       "      <td>1995</td>\n",
       "      <td>eng</td>\n",
       "      <td>Treuer, David</td>\n",
       "    </tr>\n",
       "    <tr>\n",
       "      <td>11</td>\n",
       "      <td>uc1.32106017511640</td>\n",
       "      <td>The falcon : a narrative of the captivity and ...</td>\n",
       "      <td>2000</td>\n",
       "      <td>eng</td>\n",
       "      <td>Tanner, John 1780?-1847; Erdrich, Louise</td>\n",
       "    </tr>\n",
       "    <tr>\n",
       "      <td>12</td>\n",
       "      <td>mdp.39015010832841</td>\n",
       "      <td>Love medicine : a novel / by Louise Erdrich.</td>\n",
       "      <td>1984</td>\n",
       "      <td>eng</td>\n",
       "      <td>Erdrich, Louise</td>\n",
       "    </tr>\n",
       "    <tr>\n",
       "      <td>13</td>\n",
       "      <td>mdp.39015040036579</td>\n",
       "      <td>The antelope wife : a novel / Louise Erdrich.</td>\n",
       "      <td>1998</td>\n",
       "      <td>eng</td>\n",
       "      <td>Erdrich, Louise</td>\n",
       "    </tr>\n",
       "  </tbody>\n",
       "</table>\n",
       "</div>"
      ],
      "text/plain": [
       "                    id                                              title  \\\n",
       "0   mdp.39015064761722  The translation of Dr. Apelles : a love story ...   \n",
       "1   mdp.39015054189942              Tracks : a novel / by Louise Erdrich.   \n",
       "2   mdp.39015062522845             The mother's tongue / Heid E. Erdrich.   \n",
       "3   inu.30000039114859       Route 2 / Louise Erdrich and Michael Dorris.   \n",
       "4   mdp.39015031818787                 The bingo palace / Louise Erdrich.   \n",
       "5   mdp.49015002568237  Grandmother's pigeon / Louise Erdrich ; illust...   \n",
       "6   mdp.39015048567476  The birchbark house / Louise Erdrich with illu...   \n",
       "7   mdp.39015041056824     Fishing for myth : poems / by Heid E. Erdrich.   \n",
       "8   mdp.39015034038862  The blue jay's dance : a birth year / Louise E...   \n",
       "9   mdp.39015056813671  Books and islands in Ojibwe country / Louise E...   \n",
       "10  mdp.39015034927437                          Little / by David Treuer.   \n",
       "11  uc1.32106017511640  The falcon : a narrative of the captivity and ...   \n",
       "12  mdp.39015010832841       Love medicine : a novel / by Louise Erdrich.   \n",
       "13  mdp.39015040036579      The antelope wife : a novel / Louise Erdrich.   \n",
       "\n",
       "    year language                                   authors  \n",
       "0   2006      eng                             Treuer, David  \n",
       "1   1988      eng                           Erdrich, Louise  \n",
       "2   2005      eng             Erdrich, Heid E. (Heid Ellen)  \n",
       "3   1991      eng          Erdrich, Louise; Dorris, Michael  \n",
       "4   1994      eng                           Erdrich, Louise  \n",
       "5   1996      eng        Erdrich, Louise; LaMarche, Jim ill  \n",
       "6   1999      eng                           Erdrich, Louise  \n",
       "7   1997      eng             Erdrich, Heid E. (Heid Ellen)  \n",
       "8   1995      eng                           Erdrich, Louise  \n",
       "9   2003      eng                           Erdrich, Louise  \n",
       "10  1995      eng                             Treuer, David  \n",
       "11  2000      eng  Tanner, John 1780?-1847; Erdrich, Louise  \n",
       "12  1984      eng                           Erdrich, Louise  \n",
       "13  1998      eng                           Erdrich, Louise  "
      ]
     },
     "execution_count": 9,
     "metadata": {},
     "output_type": "execute_result"
    }
   ],
   "source": [
    "pd.read_csv('MNauthors-ianr.csv')"
   ]
  },
  {
   "cell_type": "code",
   "execution_count": 10,
   "metadata": {},
   "outputs": [
    {
     "name": "stdout",
     "output_type": "stream",
     "text": [
      "None\n",
      "['erdrich\\\\inu.30000039114859.json.bz2', 'erdrich\\\\inu.30000041114236.json.bz2', 'erdrich\\\\mdp.39015010832841.json.bz2', 'erdrich\\\\mdp.39015031716551.json.bz2', 'erdrich\\\\mdp.39015031818787.json.bz2', 'erdrich\\\\mdp.39015034038862.json.bz2', 'erdrich\\\\mdp.39015040036579.json.bz2', 'erdrich\\\\mdp.39015048567476.json.bz2', 'erdrich\\\\mdp.39015048771235.json.bz2', 'erdrich\\\\mdp.39015054189942.json.bz2', 'erdrich\\\\mdp.39015056813671.json.bz2', 'erdrich\\\\mdp.49015002565050.json.bz2', 'erdrich\\\\mdp.49015002568237.json.bz2', 'erdrich\\\\uc1.32106017511640.json.bz2']\n",
      "Route 2 / Louise Erdrich and Michael Dorris.\n",
      "The falcon : a narrative of the captivity and adventures of John Tanner / with an introduction by Louise Erdrich.\n",
      "Love medicine : a novel / by Louise Erdrich.\n",
      "The blue jay's dance : a birth year / Louise Erdrich.\n",
      "The bingo palace / Louise Erdrich.\n",
      "The blue jay's dance : a birth year / Louise Erdrich.\n",
      "The antelope wife : a novel / Louise Erdrich.\n",
      "The birchbark house / Louise Erdrich with illustrations by the author.\n",
      "The broom closet : secret meanings of domesticity in postfeminist novels by Louise Erdrich, Mary Gordan, Toni Morrison, Marge Piercy, Jane Smiley, and Amy Tan / Jeannette Batz Cooperman.\n",
      "Tracks : a novel / by Louise Erdrich.\n",
      "Books and islands in Ojibwe country / Louise Erdrich.\n",
      "The birchbark house / Louise Erdrich with illustrations by the author.\n",
      "Grandmother's pigeon / Louise Erdrich ; illustrated by Jim LaMarche.\n",
      "The falcon : a narrative of the captivity and adventures of John Tanner / with an introduction by Louise Erdrich\n"
     ]
    }
   ],
   "source": [
    "paths = glob.glob(\"erdrich\\\\*.json.bz2\") #this may be a PC thing to have '\\\\' rather than '/'\n",
    "fr = FeatureReader(paths)\n",
    "for vol in fr.volumes():\n",
    "    print(vol.title)"
   ]
  },
  {
   "cell_type": "code",
   "execution_count": 17,
   "metadata": {},
   "outputs": [
    {
     "name": "stdout",
     "output_type": "stream",
     "text": [
      "['mnauthors\\\\inu.30000039114859.json.bz2', 'mnauthors\\\\mdp.39015010832841.json.bz2', 'mnauthors\\\\mdp.39015031818787.json.bz2', 'mnauthors\\\\mdp.39015034038862.json.bz2', 'mnauthors\\\\mdp.39015034927437.json.bz2', 'mnauthors\\\\mdp.39015040036579.json.bz2', 'mnauthors\\\\mdp.39015041056824.json.bz2', 'mnauthors\\\\mdp.39015048567476.json.bz2', 'mnauthors\\\\mdp.39015054189942.json.bz2', 'mnauthors\\\\mdp.39015056813671.json.bz2', 'mnauthors\\\\mdp.39015062522845.json.bz2', 'mnauthors\\\\mdp.39015064761722.json.bz2', 'mnauthors\\\\mdp.49015002568237.json.bz2', 'mnauthors\\\\uc1.32106017511640.json.bz2']\n",
      "None\n",
      "['mnauthors\\\\inu.30000039114859.json.bz2', 'mnauthors\\\\mdp.39015010832841.json.bz2', 'mnauthors\\\\mdp.39015031818787.json.bz2', 'mnauthors\\\\mdp.39015034038862.json.bz2', 'mnauthors\\\\mdp.39015034927437.json.bz2', 'mnauthors\\\\mdp.39015040036579.json.bz2', 'mnauthors\\\\mdp.39015041056824.json.bz2', 'mnauthors\\\\mdp.39015048567476.json.bz2', 'mnauthors\\\\mdp.39015054189942.json.bz2', 'mnauthors\\\\mdp.39015056813671.json.bz2', 'mnauthors\\\\mdp.39015062522845.json.bz2', 'mnauthors\\\\mdp.39015064761722.json.bz2', 'mnauthors\\\\mdp.49015002568237.json.bz2', 'mnauthors\\\\uc1.32106017511640.json.bz2']\n",
      "Route 2 /\n",
      "Love medicine : a novel /\n",
      "The bingo palace /\n",
      "The blue jay's dance : a birth year /\n",
      "Little /\n",
      "The antelope wife : a novel /\n",
      "Fishing for myth : poems /\n",
      "The birchbark house /\n",
      "Tracks : a novel /\n",
      "Books and islands in Ojibwe country /\n",
      "The mother's tongue /\n",
      "The translation of Dr. Apelles : a love story /\n",
      "Grandmother's pigeon /\n",
      "The falcon : a narrative of the captivity and adventures of John Tanner /\n"
     ]
    }
   ],
   "source": [
    "path2 = glob.glob(\"mnauthors\\\\*.json.bz2\")\n",
    "print(path2)\n",
    "fr2 = FeatureReader(path2)\n",
    "for vol in fr2.volumes():\n",
    "    print(vol.title)"
   ]
  },
  {
   "cell_type": "code",
   "execution_count": null,
   "metadata": {},
   "outputs": [],
   "source": []
  }
 ],
 "metadata": {
  "kernelspec": {
   "display_name": "Python 3",
   "language": "python",
   "name": "python3"
  },
  "language_info": {
   "codemirror_mode": {
    "name": "ipython",
    "version": 3
   },
   "file_extension": ".py",
   "mimetype": "text/x-python",
   "name": "python",
   "nbconvert_exporter": "python",
   "pygments_lexer": "ipython3",
   "version": "3.7.4"
  }
 },
 "nbformat": 4,
 "nbformat_minor": 2
}
