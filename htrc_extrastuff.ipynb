{
 "cells": [
  {
   "cell_type": "markdown",
   "metadata": {},
   "source": [
    "## Downloading Extracted Freatures from HathiTrust\n",
    "\n",
    "Let's use the [HTRC Workset Builder](https://solr2.htrc.illinois.edu/solr-ef/) to find and download the extracted features for a single volume to start. \n",
    "\n",
    "### Single book\n",
    "I searched for the author *Louise Erdrich* in the workset builder and found her book, *Love Medicine* in the search results. You can select the \"Download Extracted Features\" link under a search result to download a JSON file for the book's full features.\n",
    "\n",
    "![Selecting Love Medicine from the Workset Builder](img/erdrich_2.png)\n",
    "\n",
    "It's slightly more complicated to work with multiple volumes from HTRC. See the bottom of this notebook for instructions on how to do so."
   ]
  },
  {
   "cell_type": "markdown",
   "metadata": {},
   "source": [
    "## Working with multiple volumes\n",
    "\n",
    "While it's pretty easy to work with a large corpus using FeatureReader, it takes a few extra steps to access the features for multiple volumes at once. \n",
    "\n",
    "1. If you don't already have an account with [HTRC Analytics](https://analytics.hathitrust.org), sign up for one there. \n",
    "2. Use the [HTRC Workset Builder](https://solr2.htrc.illinois.edu/solr-ef/) to select multiple volumes. I've selected a number of books by Louise Erdrich for the example below.\n",
    "3. After selecting the search results you want, choose the *Add to Cart* button.\n",
    "4. View your cart, and choose the *Export as Workset* button.\n",
    "![Export your workset](img/workset.png)\n",
    "5. This should take you to HTRC Analytics. Login, if you're not already, and add a title and description for your collection of texts.\n",
    "6. Choose the *Download Extracted Features Helper* from the dropdown.\n",
    "7. Enter a job name for your download, and Submit the form to generate your download.\n",
    "8. Once the job has run, choose the job name, and select the button to *Click here to download EF_Rsync.sh*.\n",
    "![Rsync download](img/rsync.png)"
   ]
  },
  {
   "cell_type": "markdown",
   "metadata": {},
   "source": [
    "We can now cycle through properties of the `FeatureReader()`. Since we're working with a single JSON file, instead of a zip of multiple volumes, we're going to pass the parameter `compressed=False`. The data and metadata we want to access will be stored in the `.volumes()` method of FeatureReader."
   ]
  },
  {
   "cell_type": "code",
   "execution_count": 1,
   "metadata": {},
   "outputs": [
    {
     "ename": "NameError",
     "evalue": "name 'fr' is not defined",
     "output_type": "error",
     "traceback": [
      "\u001b[1;31m---------------------------------------------------------------------------\u001b[0m",
      "\u001b[1;31mNameError\u001b[0m                                 Traceback (most recent call last)",
      "\u001b[1;32m<ipython-input-1-e2000ba522ac>\u001b[0m in \u001b[0;36m<module>\u001b[1;34m\u001b[0m\n\u001b[0;32m      2\u001b[0m \u001b[1;31m#fr = FeatureReader(paths, compressed=False)\u001b[0m\u001b[1;33m\u001b[0m\u001b[1;33m\u001b[0m\u001b[1;33m\u001b[0m\u001b[0m\n\u001b[0;32m      3\u001b[0m \u001b[1;31m#vol = fr.first() (for dealing with just one volume)\u001b[0m\u001b[1;33m\u001b[0m\u001b[1;33m\u001b[0m\u001b[1;33m\u001b[0m\u001b[0m\n\u001b[1;32m----> 4\u001b[1;33m \u001b[1;32mfor\u001b[0m \u001b[0mvol\u001b[0m \u001b[1;32min\u001b[0m \u001b[0mfr\u001b[0m\u001b[1;33m.\u001b[0m\u001b[0mvolumes\u001b[0m\u001b[1;33m(\u001b[0m\u001b[1;33m)\u001b[0m\u001b[1;33m:\u001b[0m\u001b[1;33m\u001b[0m\u001b[1;33m\u001b[0m\u001b[0m\n\u001b[0m\u001b[0;32m      5\u001b[0m     \u001b[0mprint\u001b[0m\u001b[1;33m(\u001b[0m\u001b[0mvol\u001b[0m\u001b[1;33m.\u001b[0m\u001b[0mid\u001b[0m\u001b[1;33m,\u001b[0m \u001b[1;34m'\\n'\u001b[0m\u001b[1;33m,\u001b[0m \u001b[0mvol\u001b[0m\u001b[1;33m.\u001b[0m\u001b[0mtitle\u001b[0m\u001b[1;33m,\u001b[0m \u001b[1;34m'\\n'\u001b[0m\u001b[1;33m,\u001b[0m \u001b[0mvol\u001b[0m\u001b[1;33m.\u001b[0m\u001b[0mauthor\u001b[0m\u001b[1;33m)\u001b[0m\u001b[1;33m\u001b[0m\u001b[1;33m\u001b[0m\u001b[0m\n",
      "\u001b[1;31mNameError\u001b[0m: name 'fr' is not defined"
     ]
    }
   ],
   "source": [
    "#if you're looking at the uncompressed JSON file for one book use the parameter 'compressed=False'\n",
    "#fr = FeatureReader(paths, compressed=False)\n",
    "#vol = fr.first() (for dealing with just one volume)\n",
    "for vol in fr.volumes():\n",
    "    print(vol.id, '\\n', vol.title, '\\n', vol.author)"
   ]
  },
  {
   "cell_type": "code",
   "execution_count": null,
   "metadata": {},
   "outputs": [],
   "source": []
  }
 ],
 "metadata": {
  "kernelspec": {
   "display_name": "Python 3",
   "language": "python",
   "name": "python3"
  },
  "language_info": {
   "codemirror_mode": {
    "name": "ipython",
    "version": 3
   },
   "file_extension": ".py",
   "mimetype": "text/x-python",
   "name": "python",
   "nbconvert_exporter": "python",
   "pygments_lexer": "ipython3",
   "version": "3.7.4"
  }
 },
 "nbformat": 4,
 "nbformat_minor": 4
}
